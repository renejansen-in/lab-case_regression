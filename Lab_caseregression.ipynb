{
 "cells": [
  {
   "cell_type": "markdown",
   "id": "03eef3cd",
   "metadata": {},
   "source": [
    "# Lab | Case Regression\n",
    "\n",
    "<br>\n",
    "\n",
    "<details><summary>▶ Instructions:</summary>\n",
    "<p>\n",
    "\n",
    "At this point, we have created a model to predict who will make a donation and who won't. But, what about the ammount of money that each person will give? In this lab, subset those that made a donation and use that subset to create a model to predict how much money will they give.\n",
    "\n",
    "Evaluate the result of your model and estimate how much better the result are for the bussiness in comparison with the naive scenario we discuss on Monday.\n",
    "\n",
    "</p>\n",
    "</details>"
   ]
  },
  {
   "cell_type": "code",
   "execution_count": 1,
   "id": "6b147f51",
   "metadata": {},
   "outputs": [
    {
     "data": {
      "text/html": [
       "<div>\n",
       "<style scoped>\n",
       "    .dataframe tbody tr th:only-of-type {\n",
       "        vertical-align: middle;\n",
       "    }\n",
       "\n",
       "    .dataframe tbody tr th {\n",
       "        vertical-align: top;\n",
       "    }\n",
       "\n",
       "    .dataframe thead th {\n",
       "        text-align: right;\n",
       "    }\n",
       "</style>\n",
       "<table border=\"1\" class=\"dataframe\">\n",
       "  <thead>\n",
       "    <tr style=\"text-align: right;\">\n",
       "      <th></th>\n",
       "      <th>TARGET_B</th>\n",
       "      <th>TARGET_D</th>\n",
       "    </tr>\n",
       "  </thead>\n",
       "  <tbody>\n",
       "    <tr>\n",
       "      <th>0</th>\n",
       "      <td>0</td>\n",
       "      <td>0.0</td>\n",
       "    </tr>\n",
       "  </tbody>\n",
       "</table>\n",
       "</div>"
      ],
      "text/plain": [
       "   TARGET_B  TARGET_D\n",
       "0         0       0.0"
      ]
     },
     "execution_count": 1,
     "metadata": {},
     "output_type": "execute_result"
    }
   ],
   "source": [
    "import pandas as pd  # the same as the lab before\n",
    "import numpy as np\n",
    "from sklearn.model_selection import train_test_split\n",
    "from sklearn.model_selection import cross_val_score\n",
    "from sklearn.preprocessing import OneHotEncoder\n",
    "from sklearn.tree import DecisionTreeRegressor\n",
    "from sklearn import linear_model\n",
    "from sklearn.neighbors import KNeighborsRegressor\n",
    "from sklearn.ensemble import RandomForestRegressor\n",
    "from sklearn.utils import resample\n",
    "from matplotlib import cm\n",
    "from sklearn.preprocessing import StandardScaler\n",
    "import matplotlib.pyplot as plt\n",
    "from sklearn.metrics import r2_score, mean_squared_error, mean_absolute_error\n",
    "from math import sqrt\n",
    "import warnings\n",
    "warnings.filterwarnings('ignore')\n",
    "\n",
    "categorical = pd.read_csv(\"files_for_lab/categorical.csv\")\n",
    "numerical = pd.read_csv('files_for_lab/numerical.csv')\n",
    "target = pd.read_csv('files_for_lab/target.csv')\n",
    "target.head(1)    # b=boolean/response previous mailing and d = dollar/amount_donated as response"
   ]
  },
  {
   "cell_type": "code",
   "execution_count": 2,
   "id": "c4370914",
   "metadata": {},
   "outputs": [
    {
     "name": "stdout",
     "output_type": "stream",
     "text": [
      "cat: (95412, 22)\n",
      "num: (95412, 315)\n",
      "target_B:\n",
      "0    90569\n",
      "1     4843\n",
      "Name: TARGET_B, dtype: int64\n"
     ]
    }
   ],
   "source": [
    "print('cat:', categorical.shape)\n",
    "print('num:', numerical.shape)\n",
    "print('target_B:\\n' + str(target['TARGET_B'].value_counts()))"
   ]
  },
  {
   "cell_type": "code",
   "execution_count": 3,
   "id": "445360d9",
   "metadata": {},
   "outputs": [],
   "source": [
    "data = pd.concat([categorical, numerical, target], axis=1) "
   ]
  },
  {
   "cell_type": "code",
   "execution_count": 4,
   "id": "4dc657a0",
   "metadata": {},
   "outputs": [
    {
     "data": {
      "text/html": [
       "<div>\n",
       "<style scoped>\n",
       "    .dataframe tbody tr th:only-of-type {\n",
       "        vertical-align: middle;\n",
       "    }\n",
       "\n",
       "    .dataframe tbody tr th {\n",
       "        vertical-align: top;\n",
       "    }\n",
       "\n",
       "    .dataframe thead th {\n",
       "        text-align: right;\n",
       "    }\n",
       "</style>\n",
       "<table border=\"1\" class=\"dataframe\">\n",
       "  <thead>\n",
       "    <tr style=\"text-align: right;\">\n",
       "      <th></th>\n",
       "      <th>STATE</th>\n",
       "      <th>CLUSTER</th>\n",
       "      <th>HOMEOWNR</th>\n",
       "      <th>GENDER</th>\n",
       "      <th>DATASRCE</th>\n",
       "      <th>RFA_2R</th>\n",
       "      <th>RFA_2A</th>\n",
       "      <th>GEOCODE2</th>\n",
       "      <th>DOMAIN_A</th>\n",
       "      <th>DOMAIN_B</th>\n",
       "      <th>...</th>\n",
       "      <th>MAXRAMNT</th>\n",
       "      <th>LASTGIFT</th>\n",
       "      <th>TIMELAG</th>\n",
       "      <th>AVGGIFT</th>\n",
       "      <th>CONTROLN</th>\n",
       "      <th>HPHONE_D</th>\n",
       "      <th>RFA_2F</th>\n",
       "      <th>CLUSTER2</th>\n",
       "      <th>TARGET_B</th>\n",
       "      <th>TARGET_D</th>\n",
       "    </tr>\n",
       "  </thead>\n",
       "  <tbody>\n",
       "  </tbody>\n",
       "</table>\n",
       "<p>0 rows × 339 columns</p>\n",
       "</div>"
      ],
      "text/plain": [
       "Empty DataFrame\n",
       "Columns: [STATE, CLUSTER, HOMEOWNR, GENDER, DATASRCE, RFA_2R, RFA_2A, GEOCODE2, DOMAIN_A, DOMAIN_B, ODATEW_YR, ODATEW_MM, DOB_YR, DOB_MM, MINRDATE_YR, MINRDATE_MM, MAXRDATE_YR, MAXRDATE_MM, LASTDATE_YR, LASTDATE_MM, FIRSTDATE_YR, FIRSTDATE_MM, TCODE, AGE, INCOME, WEALTH1, HIT, MALEMILI, MALEVET, VIETVETS, WWIIVETS, LOCALGOV, STATEGOV, FEDGOV, WEALTH2, POP901, POP902, POP903, POP90C1, POP90C2, POP90C3, POP90C4, POP90C5, ETH1, ETH2, ETH3, ETH4, ETH5, ETH6, ETH7, ETH8, ETH9, ETH10, ETH11, ETH12, ETH13, ETH14, ETH15, ETH16, AGE901, AGE902, AGE903, AGE904, AGE905, AGE906, AGE907, CHIL1, CHIL2, CHIL3, AGEC1, AGEC2, AGEC3, AGEC4, AGEC5, AGEC6, AGEC7, CHILC1, CHILC2, CHILC3, CHILC4, CHILC5, HHAGE1, HHAGE2, HHAGE3, HHN1, HHN2, HHN3, HHN4, HHN5, HHN6, MARR1, MARR2, MARR3, MARR4, HHP1, HHP2, DW1, DW2, DW3, DW4, ...]\n",
       "Index: []\n",
       "\n",
       "[0 rows x 339 columns]"
      ]
     },
     "execution_count": 4,
     "metadata": {},
     "output_type": "execute_result"
    }
   ],
   "source": [
    "nans = pd.DataFrame(data.isna().sum()*100/len(data), columns=['percentage'])\n",
    "nans.sort_values('percentage', ascending = False).head()\n",
    "data[data.isna().any(axis=1)]   # no NaN's at all"
   ]
  },
  {
   "cell_type": "code",
   "execution_count": 5,
   "id": "a9ba0cac",
   "metadata": {},
   "outputs": [],
   "source": [
    "# select the features of the people who once donated\n",
    "category_1 = data[data['TARGET_B']== 1 ]"
   ]
  },
  {
   "cell_type": "code",
   "execution_count": 6,
   "id": "b167743f",
   "metadata": {},
   "outputs": [],
   "source": [
    "y = category_1['TARGET_D']\n",
    "X = category_1.drop(['TARGET_B','TARGET_D'], axis = 1)\n",
    "\n",
    "numericalX = X.select_dtypes(np.number).reset_index().drop(['index'],axis=1)\n",
    "categoricalX = X.select_dtypes(object)\n",
    "\n",
    "# OneHot encoding\n",
    "encoder = OneHotEncoder(drop='first').fit(categoricalX)\n",
    "encoded_categorical = encoder.transform(categoricalX).toarray()\n",
    "encoded_categorical = pd.DataFrame(encoded_categorical)\n",
    "X = pd.concat([numericalX, encoded_categorical], axis = 1)\n",
    "\n",
    "# test split\n",
    "X_train, X_test, y_train, y_test = train_test_split(X, y, test_size=0.2, random_state=12)"
   ]
  },
  {
   "cell_type": "code",
   "execution_count": 7,
   "id": "c2a2b7f2",
   "metadata": {},
   "outputs": [],
   "source": [
    "regr = DecisionTreeRegressor(max_depth=5)\n",
    "model = regr.fit(X_train, y_train)"
   ]
  },
  {
   "cell_type": "code",
   "execution_count": 8,
   "id": "464c744a",
   "metadata": {},
   "outputs": [
    {
     "name": "stdout",
     "output_type": "stream",
     "text": [
      "test data accuracy was:  0.1636746967276509\n",
      "train data accuracy was:  0.6656532021942065\n"
     ]
    }
   ],
   "source": [
    "print(\"test data accuracy was: \",regr.score(X_test, y_test))\n",
    "print(\"train data accuracy was: \",regr.score(X_train, y_train))"
   ]
  },
  {
   "cell_type": "code",
   "execution_count": 9,
   "id": "9204c000",
   "metadata": {},
   "outputs": [
    {
     "name": "stdout",
     "output_type": "stream",
     "text": [
      "test data accuracy was:  0.19012704696940286\n",
      "train data accuracy was:  0.619680026984313\n"
     ]
    }
   ],
   "source": [
    "# Doesn't look too good on accuracy, trying with less than 5\n",
    "regr = DecisionTreeRegressor(max_depth=4)\n",
    "model = regr.fit(X_train, y_train)\n",
    "print(\"test data accuracy was: \",regr.score(X_test, y_test))\n",
    "print(\"train data accuracy was: \",regr.score(X_train, y_train))"
   ]
  },
  {
   "cell_type": "code",
   "execution_count": 10,
   "id": "4fd4fd46",
   "metadata": {},
   "outputs": [],
   "source": [
    "# not really satisfied on the test data, even after max_depth adjustment. No idea if or what I am doing wrong"
   ]
  },
  {
   "cell_type": "code",
   "execution_count": 11,
   "id": "213f352d",
   "metadata": {},
   "outputs": [
    {
     "name": "stdout",
     "output_type": "stream",
     "text": [
      "|--- LASTGIFT <= 20.25\n",
      "|   |--- LASTGIFT <= 13.05\n",
      "|   |   |--- AVGGIFT <= 6.32\n",
      "|   |   |   |--- LASTGIFT <= 7.50\n",
      "|   |   |   |   |--- value: [5.67]\n",
      "|   |   |   |--- LASTGIFT >  7.50\n",
      "|   |   |   |   |--- value: [9.07]\n",
      "|   |   |--- AVGGIFT >  6.32\n",
      "|   |   |   |--- AVGGIFT <= 10.45\n",
      "|   |   |   |   |--- value: [10.37]\n",
      "|   |   |   |--- AVGGIFT >  10.45\n",
      "|   |   |   |   |--- value: [14.41]\n",
      "|   |--- LASTGIFT >  13.05\n",
      "|   |   |--- LASTGIFT <= 15.38\n",
      "|   |   |   |--- AVGGIFT <= 11.24\n",
      "|   |   |   |   |--- value: [14.59]\n",
      "|   |   |   |--- AVGGIFT >  11.24\n",
      "|   |   |   |   |--- value: [16.56]\n",
      "|   |   |--- LASTGIFT >  15.38\n",
      "|   |   |   |--- LFC2 <= 3.00\n",
      "|   |   |   |   |--- value: [50.00]\n",
      "|   |   |   |--- LFC2 >  3.00\n",
      "|   |   |   |   |--- value: [18.91]\n",
      "|--- LASTGIFT >  20.25\n",
      "|   |--- AVGGIFT <= 40.04\n",
      "|   |   |--- CONTROLN <= 191663.00\n",
      "|   |   |   |--- LASTGIFT <= 28.50\n",
      "|   |   |   |   |--- value: [25.36]\n",
      "|   |   |   |--- LASTGIFT >  28.50\n",
      "|   |   |   |   |--- value: [36.95]\n",
      "|   |   |--- CONTROLN >  191663.00\n",
      "|   |   |   |--- value: [150.00]\n",
      "|   |--- AVGGIFT >  40.04\n",
      "|   |   |--- OCC2 <= 4.50\n",
      "|   |   |   |--- value: [200.00]\n",
      "|   |   |--- OCC2 >  4.50\n",
      "|   |   |   |--- LOCALGOV <= 7.50\n",
      "|   |   |   |   |--- value: [76.82]\n",
      "|   |   |   |--- LOCALGOV >  7.50\n",
      "|   |   |   |   |--- value: [39.82]\n",
      "\n"
     ]
    }
   ],
   "source": [
    "from sklearn.tree import export_text\n",
    "\n",
    "r = export_text(regr, feature_names= list(X.columns))\n",
    "print(r)"
   ]
  },
  {
   "cell_type": "code",
   "execution_count": 12,
   "id": "36ec0e6a",
   "metadata": {},
   "outputs": [],
   "source": [
    "# different models"
   ]
  },
  {
   "cell_type": "code",
   "execution_count": 13,
   "id": "9081cdc8",
   "metadata": {},
   "outputs": [],
   "source": [
    "# scaling\n",
    "from sklearn.preprocessing import StandardScaler\n",
    "scaler = StandardScaler().fit(numericalX)\n",
    "numericalX_std = pd.DataFrame(scaler.transform(numericalX))"
   ]
  },
  {
   "cell_type": "code",
   "execution_count": 14,
   "id": "45e79b24",
   "metadata": {},
   "outputs": [],
   "source": [
    "# refresh data\n",
    "X2 = pd.concat([numericalX_std, encoded_categorical], axis = 1)\n",
    "X2_train, X2_test, y_train, y_test = train_test_split(X2, y, test_size=0.2, random_state=12)"
   ]
  },
  {
   "cell_type": "code",
   "execution_count": 15,
   "id": "fe4606b0",
   "metadata": {},
   "outputs": [],
   "source": [
    "# Linear regression\n",
    "LR = linear_model.LinearRegression()"
   ]
  },
  {
   "cell_type": "code",
   "execution_count": 16,
   "id": "70423ea0",
   "metadata": {},
   "outputs": [],
   "source": [
    "# KNN\n",
    "KNN = KNeighborsRegressor(n_neighbors=5)"
   ]
  },
  {
   "cell_type": "code",
   "execution_count": 17,
   "id": "a324b240",
   "metadata": {},
   "outputs": [
    {
     "data": {
      "text/html": [
       "<div>\n",
       "<style scoped>\n",
       "    .dataframe tbody tr th:only-of-type {\n",
       "        vertical-align: middle;\n",
       "    }\n",
       "\n",
       "    .dataframe tbody tr th {\n",
       "        vertical-align: top;\n",
       "    }\n",
       "\n",
       "    .dataframe thead th {\n",
       "        text-align: right;\n",
       "    }\n",
       "</style>\n",
       "<table border=\"1\" class=\"dataframe\">\n",
       "  <thead>\n",
       "    <tr style=\"text-align: right;\">\n",
       "      <th></th>\n",
       "      <th>model</th>\n",
       "      <th>score</th>\n",
       "    </tr>\n",
       "  </thead>\n",
       "  <tbody>\n",
       "    <tr>\n",
       "      <th>0</th>\n",
       "      <td>LinearRegression()</td>\n",
       "      <td>0.135762</td>\n",
       "    </tr>\n",
       "    <tr>\n",
       "      <th>1</th>\n",
       "      <td>KNeighborsRegressor()</td>\n",
       "      <td>-0.200917</td>\n",
       "    </tr>\n",
       "    <tr>\n",
       "      <th>2</th>\n",
       "      <td>DecisionTreeRegressor(max_depth=4)</td>\n",
       "      <td>0.190127</td>\n",
       "    </tr>\n",
       "  </tbody>\n",
       "</table>\n",
       "</div>"
      ],
      "text/plain": [
       "                                model     score\n",
       "0                  LinearRegression()  0.135762\n",
       "1               KNeighborsRegressor() -0.200917\n",
       "2  DecisionTreeRegressor(max_depth=4)  0.190127"
      ]
     },
     "execution_count": 17,
     "metadata": {},
     "output_type": "execute_result"
    }
   ],
   "source": [
    "# before\n",
    "scores = []\n",
    "models = [LR, KNN, regr] # insert model acronym here\n",
    "for x in models:\n",
    "    x.fit(X_train,y_train)\n",
    "    scores.append(x.score(X_test, y_test)) \n",
    "    \n",
    "d = {'model':models,'score':scores}\n",
    "results = pd.DataFrame(d)\n",
    "results"
   ]
  },
  {
   "cell_type": "code",
   "execution_count": 18,
   "id": "01b77dae",
   "metadata": {},
   "outputs": [
    {
     "data": {
      "text/html": [
       "<div>\n",
       "<style scoped>\n",
       "    .dataframe tbody tr th:only-of-type {\n",
       "        vertical-align: middle;\n",
       "    }\n",
       "\n",
       "    .dataframe tbody tr th {\n",
       "        vertical-align: top;\n",
       "    }\n",
       "\n",
       "    .dataframe thead th {\n",
       "        text-align: right;\n",
       "    }\n",
       "</style>\n",
       "<table border=\"1\" class=\"dataframe\">\n",
       "  <thead>\n",
       "    <tr style=\"text-align: right;\">\n",
       "      <th></th>\n",
       "      <th>model</th>\n",
       "      <th>score</th>\n",
       "    </tr>\n",
       "  </thead>\n",
       "  <tbody>\n",
       "    <tr>\n",
       "      <th>0</th>\n",
       "      <td>LinearRegression()</td>\n",
       "      <td>0.135762</td>\n",
       "    </tr>\n",
       "    <tr>\n",
       "      <th>1</th>\n",
       "      <td>KNeighborsRegressor()</td>\n",
       "      <td>0.149697</td>\n",
       "    </tr>\n",
       "    <tr>\n",
       "      <th>2</th>\n",
       "      <td>DecisionTreeRegressor(max_depth=4)</td>\n",
       "      <td>0.190127</td>\n",
       "    </tr>\n",
       "  </tbody>\n",
       "</table>\n",
       "</div>"
      ],
      "text/plain": [
       "                                model     score\n",
       "0                  LinearRegression()  0.135762\n",
       "1               KNeighborsRegressor()  0.149697\n",
       "2  DecisionTreeRegressor(max_depth=4)  0.190127"
      ]
     },
     "execution_count": 18,
     "metadata": {},
     "output_type": "execute_result"
    }
   ],
   "source": [
    "# after\n",
    "scores = []\n",
    "models = [LR, KNN, regr] # insert model acronym here\n",
    "for x in models:\n",
    "    x.fit(X2_train,y_train)\n",
    "    scores.append(x.score(X2_test, y_test)) \n",
    "\n",
    "d2 = {'model':models,'score':scores}\n",
    "results = pd.DataFrame(d2)\n",
    "results"
   ]
  },
  {
   "cell_type": "code",
   "execution_count": 19,
   "id": "5818f326",
   "metadata": {},
   "outputs": [],
   "source": [
    "# Conclusion model comparison: \n",
    "# DecisionTreeRegressor gives the highest scores "
   ]
  },
  {
   "cell_type": "code",
   "execution_count": 20,
   "id": "58009cce",
   "metadata": {},
   "outputs": [],
   "source": [
    "# Random forest instead of model comparison"
   ]
  },
  {
   "cell_type": "code",
   "execution_count": 21,
   "id": "534882fd",
   "metadata": {},
   "outputs": [],
   "source": [
    "# refresh data\n",
    "X3 = pd.concat([numericalX_std, encoded_categorical], axis = 1)\n",
    "X3_train, X3_test, y_train, y_test = train_test_split(X3, y, test_size=0.2, random_state=12)"
   ]
  },
  {
   "cell_type": "code",
   "execution_count": 22,
   "id": "9962ebff",
   "metadata": {},
   "outputs": [
    {
     "name": "stdout",
     "output_type": "stream",
     "text": [
      "R2 Score: 0.4111740483078671\n",
      "Mean Squared Error: 85.69638406214654\n",
      "Mean aboslute Error: 4.469743653250775\n",
      "Root Mean Squared Error: 9.257234147527356\n"
     ]
    }
   ],
   "source": [
    "# applying Random forest classifier\n",
    "clf = RandomForestRegressor()\n",
    "RFR = clf.fit(X3_train, y_train)\n",
    "pred = RFR.predict(X3_test)\n",
    "\n",
    "r2 = r2_score(y_test,pred)\n",
    "mse = mean_squared_error(y_test,pred)\n",
    "mae = mean_absolute_error(y_test,pred)\n",
    "rmse = sqrt(mse)\n",
    "\n",
    "print('R2 Score:', r2)\n",
    "print('Mean Squared Error:', mse)\n",
    "print('Mean aboslute Error:', mae)\n",
    "print('Root Mean Squared Error:',rmse)"
   ]
  },
  {
   "cell_type": "code",
   "execution_count": 23,
   "id": "f8b1ac1d",
   "metadata": {},
   "outputs": [],
   "source": [
    "# Evaluate the result of your model and estimate how much better the result are for the bussiness \n",
    "# in comparison with the naive scenario we discuss on Monday.\n",
    "# I really don't understand this unclear instruction, but I would say that applying \n",
    "# decision trees and base the campaign on that will most likely give highest return on investment"
   ]
  }
 ],
 "metadata": {
  "kernelspec": {
   "display_name": "Python 3",
   "language": "python",
   "name": "python3"
  },
  "language_info": {
   "codemirror_mode": {
    "name": "ipython",
    "version": 3
   },
   "file_extension": ".py",
   "mimetype": "text/x-python",
   "name": "python",
   "nbconvert_exporter": "python",
   "pygments_lexer": "ipython3",
   "version": "3.8.8"
  }
 },
 "nbformat": 4,
 "nbformat_minor": 5
}
